{
  "nbformat": 4,
  "nbformat_minor": 0,
  "metadata": {
    "colab": {
      "name": "BPDA.ipynb",
      "provenance": [],
      "collapsed_sections": []
    },
    "kernelspec": {
      "name": "python3",
      "display_name": "Python 3"
    },
    "accelerator": "GPU"
  },
  "cells": [
    {
      "cell_type": "markdown",
      "metadata": {
        "id": "vyhs93tW6bcD",
        "colab_type": "text"
      },
      "source": [
        "# BPDA attack"
      ]
    },
    {
      "cell_type": "markdown",
      "metadata": {
        "id": "JRfe_a-o6gnr",
        "colab_type": "text"
      },
      "source": [
        "Description: Implement BPDA attack against Defense-GAN as proposed in the paper [Obfuscated Gradients Give a False Sense of Security: Circumventing Defenses to Adversarial Examples](https://https://arxiv.org/abs/1802.00420)"
      ]
    },
    {
      "cell_type": "markdown",
      "metadata": {
        "id": "V3AnXeR6xzKI",
        "colab_type": "text"
      },
      "source": [
        "## Setup"
      ]
    },
    {
      "cell_type": "code",
      "metadata": {
        "id": "xBNXE_1ytVos",
        "colab_type": "code",
        "colab": {}
      },
      "source": [
        "import time\n",
        "import numpy as np\n",
        "import matplotlib.pyplot as plt\n",
        "import tensorflow as tf\n",
        "from tensorflow.keras import datasets, layers, models\n",
        "from IPython import display"
      ],
      "execution_count": 0,
      "outputs": []
    },
    {
      "cell_type": "code",
      "metadata": {
        "id": "ACO12MhesYIe",
        "colab_type": "code",
        "outputId": "5e3a1ac3-7694-4e52-c005-8a87378f5f5b",
        "colab": {
          "base_uri": "https://localhost:8080/",
          "height": 54
        }
      },
      "source": [
        "(x_train, y_train), (x_test, y_test) = tf.keras.datasets.cifar10.load_data()"
      ],
      "execution_count": 0,
      "outputs": [
        {
          "output_type": "stream",
          "text": [
            "Downloading data from https://www.cs.toronto.edu/~kriz/cifar-10-python.tar.gz\n",
            "170500096/170498071 [==============================] - 11s 0us/step\n"
          ],
          "name": "stdout"
        }
      ]
    },
    {
      "cell_type": "code",
      "metadata": {
        "id": "81oCr64JsopV",
        "colab_type": "code",
        "colab": {}
      },
      "source": [
        "# Normalize the images to [0, 1]\n",
        "x_train = x_train/255.0\n",
        "x_train = x_train.astype('float32')\n",
        "x_test = x_test/255.0\n",
        "x_test = x_test.astype('float32')"
      ],
      "execution_count": 0,
      "outputs": []
    },
    {
      "cell_type": "markdown",
      "metadata": {
        "id": "uzvzb2ZDxrp-",
        "colab_type": "text"
      },
      "source": [
        "## CNN (use original training data `x_train`)"
      ]
    },
    {
      "cell_type": "code",
      "metadata": {
        "id": "GpN2k7uYxtvX",
        "colab_type": "code",
        "colab": {}
      },
      "source": [
        "model_org = models.Sequential()\n",
        "model_org.add(layers.Conv2D(32, (3, 3), activation='relu', input_shape=(32, 32, 3)))\n",
        "model_org.add(layers.MaxPooling2D((2, 2)))\n",
        "model_org.add(layers.BatchNormalization())\n",
        "model_org.add(layers.Dropout(0.2))\n",
        "\n",
        "model_org.add(layers.Conv2D(64, (3, 3), activation='relu'))\n",
        "model_org.add(layers.MaxPooling2D((2, 2)))\n",
        "model_org.add(layers.BatchNormalization())\n",
        "model_org.add(layers.Dropout(0.2))\n",
        "\n",
        "model_org.add(layers.Conv2D(64, (3, 3), activation='relu', padding='same'))\n",
        "model_org.add(layers.BatchNormalization())\n",
        "model_org.add(layers.Flatten())\n",
        "model_org.add(layers.Dense(64, activation='relu'))\n",
        "model_org.add(layers.Dense(10))"
      ],
      "execution_count": 0,
      "outputs": []
    },
    {
      "cell_type": "code",
      "metadata": {
        "id": "6o9jgb7Ixuul",
        "colab_type": "code",
        "outputId": "70db234f-5c11-4e96-b3b1-93396eb91bec",
        "colab": {
          "base_uri": "https://localhost:8080/",
          "height": 308
        }
      },
      "source": [
        "model_org.compile(optimizer='adam',\n",
        "              loss=tf.keras.losses.SparseCategoricalCrossentropy(from_logits=True),\n",
        "              metrics=['accuracy'])\n",
        "\n",
        "history = model_org.fit(x_train, y_train, epochs=8, \n",
        "                    validation_data=(x_test, y_test))"
      ],
      "execution_count": 0,
      "outputs": [
        {
          "output_type": "stream",
          "text": [
            "Epoch 1/8\n",
            "1563/1563 [==============================] - 12s 8ms/step - loss: 1.3875 - accuracy: 0.5114 - val_loss: 1.3834 - val_accuracy: 0.5341\n",
            "Epoch 2/8\n",
            "1563/1563 [==============================] - 12s 8ms/step - loss: 0.9956 - accuracy: 0.6481 - val_loss: 1.6410 - val_accuracy: 0.5009\n",
            "Epoch 3/8\n",
            "1563/1563 [==============================] - 12s 8ms/step - loss: 0.8451 - accuracy: 0.7024 - val_loss: 1.0455 - val_accuracy: 0.6545\n",
            "Epoch 4/8\n",
            "1563/1563 [==============================] - 12s 8ms/step - loss: 0.7537 - accuracy: 0.7355 - val_loss: 0.9320 - val_accuracy: 0.6875\n",
            "Epoch 5/8\n",
            "1563/1563 [==============================] - 12s 8ms/step - loss: 0.6800 - accuracy: 0.7617 - val_loss: 0.8728 - val_accuracy: 0.7052\n",
            "Epoch 6/8\n",
            "1563/1563 [==============================] - 12s 8ms/step - loss: 0.6240 - accuracy: 0.7799 - val_loss: 0.7954 - val_accuracy: 0.7315\n",
            "Epoch 7/8\n",
            "1563/1563 [==============================] - 12s 8ms/step - loss: 0.5756 - accuracy: 0.7953 - val_loss: 1.4003 - val_accuracy: 0.6049\n",
            "Epoch 8/8\n",
            "1563/1563 [==============================] - 12s 8ms/step - loss: 0.5309 - accuracy: 0.8133 - val_loss: 0.8782 - val_accuracy: 0.7152\n"
          ],
          "name": "stdout"
        }
      ]
    },
    {
      "cell_type": "markdown",
      "metadata": {
        "id": "qhA5A0PhAoYY",
        "colab_type": "text"
      },
      "source": [
        "## CNN (use generated training data `gen_train`)"
      ]
    },
    {
      "cell_type": "code",
      "metadata": {
        "id": "CqBLnJ3CAp_W",
        "colab_type": "code",
        "colab": {}
      },
      "source": [
        "gen_train = np.load('/content/drive/My Drive/Colab Notebooks/Defense-GAN/data/gen_train.npy')"
      ],
      "execution_count": 0,
      "outputs": []
    },
    {
      "cell_type": "code",
      "metadata": {
        "id": "uQQaCdWnBEov",
        "colab_type": "code",
        "colab": {}
      },
      "source": [
        "model_rec = models.Sequential()\n",
        "model_rec.add(layers.Conv2D(32, (3, 3), activation='relu', input_shape=(32, 32, 3)))\n",
        "model_rec.add(layers.MaxPooling2D((2, 2)))\n",
        "model_rec.add(layers.BatchNormalization())\n",
        "model_rec.add(layers.Dropout(0.2))\n",
        "\n",
        "model_rec.add(layers.Conv2D(64, (3, 3), activation='relu', padding='same'))\n",
        "model_rec.add(layers.MaxPooling2D((2, 2)))\n",
        "model_rec.add(layers.BatchNormalization())\n",
        "model_rec.add(layers.Dropout(0.2))\n",
        "\n",
        "model_rec.add(layers.Conv2D(128, (3, 3), activation='relu', padding='same'))\n",
        "model_rec.add(layers.MaxPooling2D((2, 2)))\n",
        "model_rec.add(layers.BatchNormalization())\n",
        "model_rec.add(layers.Flatten())\n",
        "model_rec.add(layers.Dense(64, activation='relu'))\n",
        "model_rec.add(layers.Dense(10))"
      ],
      "execution_count": 0,
      "outputs": []
    },
    {
      "cell_type": "code",
      "metadata": {
        "id": "sSo3KEoHBIiI",
        "colab_type": "code",
        "outputId": "94c93096-f8c1-43a8-f1d4-4a776d87bbe4",
        "colab": {
          "base_uri": "https://localhost:8080/",
          "height": 381
        }
      },
      "source": [
        "model_rec.compile(optimizer='adam',\n",
        "              loss=tf.keras.losses.SparseCategoricalCrossentropy(from_logits=True),\n",
        "              metrics=['accuracy'])\n",
        "\n",
        "history = model_rec.fit(gen_train, y_train, epochs=10, \n",
        "                    validation_data=(x_test, y_test))"
      ],
      "execution_count": 0,
      "outputs": [
        {
          "output_type": "stream",
          "text": [
            "Epoch 1/10\n",
            "1563/1563 [==============================] - 13s 8ms/step - loss: 1.6585 - accuracy: 0.4078 - val_loss: 1.4787 - val_accuracy: 0.4678\n",
            "Epoch 2/10\n",
            "1563/1563 [==============================] - 12s 8ms/step - loss: 1.4581 - accuracy: 0.4735 - val_loss: 1.3505 - val_accuracy: 0.5166\n",
            "Epoch 3/10\n",
            "1563/1563 [==============================] - 12s 8ms/step - loss: 1.3902 - accuracy: 0.5011 - val_loss: 1.3260 - val_accuracy: 0.5323\n",
            "Epoch 4/10\n",
            "1563/1563 [==============================] - 12s 8ms/step - loss: 1.3374 - accuracy: 0.5204 - val_loss: 1.2989 - val_accuracy: 0.5351\n",
            "Epoch 5/10\n",
            "1563/1563 [==============================] - 12s 8ms/step - loss: 1.2965 - accuracy: 0.5343 - val_loss: 1.2784 - val_accuracy: 0.5537\n",
            "Epoch 6/10\n",
            "1563/1563 [==============================] - 12s 8ms/step - loss: 1.2573 - accuracy: 0.5485 - val_loss: 1.1962 - val_accuracy: 0.5842\n",
            "Epoch 7/10\n",
            "1563/1563 [==============================] - 12s 8ms/step - loss: 1.2229 - accuracy: 0.5619 - val_loss: 1.2665 - val_accuracy: 0.5587\n",
            "Epoch 8/10\n",
            "1563/1563 [==============================] - 12s 8ms/step - loss: 1.1846 - accuracy: 0.5734 - val_loss: 1.1888 - val_accuracy: 0.5888\n",
            "Epoch 9/10\n",
            "1563/1563 [==============================] - 12s 8ms/step - loss: 1.1529 - accuracy: 0.5883 - val_loss: 1.3546 - val_accuracy: 0.5381\n",
            "Epoch 10/10\n",
            "1563/1563 [==============================] - 12s 8ms/step - loss: 1.1224 - accuracy: 0.5991 - val_loss: 1.3286 - val_accuracy: 0.5464\n"
          ],
          "name": "stdout"
        }
      ]
    },
    {
      "cell_type": "markdown",
      "metadata": {
        "id": "3AwF-pr6xIqF",
        "colab_type": "text"
      },
      "source": [
        "## BPDA attack"
      ]
    },
    {
      "cell_type": "markdown",
      "metadata": {
        "id": "NcqO_whS6Mp9",
        "colab_type": "text"
      },
      "source": [
        "Reference: https://github.com/anishathalye/obfuscated-gradients/blob/master/defensegan/l2_attack.py"
      ]
    },
    {
      "cell_type": "code",
      "metadata": {
        "id": "WgeI2DfX0NwU",
        "colab_type": "code",
        "colab": {}
      },
      "source": [
        "@tf.function\n",
        "def attack(model, generator, noise, image, label, targeted=None, num_classes=10, const=1, confidence=0, learning_rate=0.004, step=200):\n",
        "  '''\n",
        "  attack a single image\n",
        "\n",
        "  model: image classifier\n",
        "  generator: generator of defense-gan\n",
        "  noise: input of the generator\n",
        "  image: image to attack\n",
        "  label: true label\n",
        "  targeted: targeted attack or not\n",
        "  num_classes: #classes in the dataset\n",
        "  const: larger const indicates lower accuracy but further from original image\n",
        "  confidence: larger confidence indicates lower accuracy but further from original image\n",
        "  learning_rate: learning rate of gradient descent\n",
        "  step: number of gradient descent steps\n",
        "  '''\n",
        "  loss_object = tf.keras.losses.CategoricalCrossentropy()\n",
        "\n",
        "  label_prob = tf.one_hot(label, num_classes)[0]\n",
        "  if targeted is None:\n",
        "    target = label_prob\n",
        "  else:\n",
        "    target = targeted\n",
        "\n",
        "  for i in range(step):\n",
        "    with tf.GradientTape() as tape:\n",
        "      tape.watch(noise)\n",
        "      fake = generator(noise, training=False)\n",
        "      loss1 = tf.reduce_sum((fake - image)**2, axis=[1,2,3])\n",
        "\n",
        "      pred = model(fake, training=False)\n",
        "      if targeted is None:\n",
        "        loss2 = tf.maximum(0.0, loss_object(label_prob, pred) - loss_object(target, pred) + confidence)\n",
        "      else:\n",
        "        loss2 = tf.maximum(0.0, loss_object(target, pred) - loss_object(label_prob, pred) + confidence)\n",
        "\n",
        "      loss = loss1 + loss2 * const\n",
        "    \n",
        "    gradients = tape.gradient(loss, noise)\n",
        "    noise.assign_sub(learning_rate * gradients)\n",
        "    \n",
        "  idx = tf.argmin(loss, axis=0)\n",
        "  noise = tf.reshape(noise[idx], (1, -1))\n",
        "  return generator(noise, training=False)"
      ],
      "execution_count": 0,
      "outputs": []
    },
    {
      "cell_type": "code",
      "metadata": {
        "id": "tKnlpvSG5y2z",
        "colab_type": "code",
        "colab": {}
      },
      "source": [
        "def attack_batch(model, generator, images, label, targeted=None, num_classes=10, const=1, confidence=0, learning_rate=0.004, step=200):\n",
        "  '''\n",
        "  attack a batch of images\n",
        "\n",
        "  model: image classifier\n",
        "  generator: generator of defense-gan\n",
        "  images: images to attack\n",
        "  label: true labels\n",
        "  targeted: targeted attack or not\n",
        "  num_classes: #classes in the dataset\n",
        "  const: larger const indicates lower accuracy but further from original image\n",
        "  confidence: larger confidence indicates lower accuracy but further from original image\n",
        "  learning_rate: learning rate of gradient descent\n",
        "  step: number of gradient descent steps\n",
        "  '''\n",
        "\n",
        "  predictions = []\n",
        "  start=time.time()\n",
        "  for i in range(images.shape[0]):\n",
        "    noise = tf.random.normal([1, 128])\n",
        "    noise = tf.Variable(noise, trainable=True)\n",
        "    if targeted is None:\n",
        "      target = None\n",
        "    else:\n",
        "      target = targeted[i:i+1]\n",
        "    predictions.append(attack(model, generator, noise, images[i:i+1], label[i:i+1], \n",
        "                              target, num_classes, const, \n",
        "                              confidence, learning_rate, step))\n",
        "    # record progress\n",
        "    display.clear_output(wait=True)\n",
        "    if (i+1)%10 == 0:\n",
        "      print('Batch: {}/{}\\tTime: {} sec'.format(i+1, images.shape[0], time.time()-start))\n",
        "      start=time.time()\n",
        "  return tf.concat(predictions, axis=0)"
      ],
      "execution_count": 0,
      "outputs": []
    },
    {
      "cell_type": "code",
      "metadata": {
        "id": "lk9CT29qLbKO",
        "colab_type": "code",
        "colab": {}
      },
      "source": [
        "target = tf.squeeze(tf.one_hot(y_test, 10))\n",
        "prediction = model_org(x_test, training=False)\n",
        "prediction -= target * 1000\n",
        "target = tf.argmax(prediction, axis=1)\n",
        "target = tf.one_hot(target, 10)"
      ],
      "execution_count": 0,
      "outputs": []
    },
    {
      "cell_type": "code",
      "metadata": {
        "id": "xlTReUZJLsPX",
        "colab_type": "code",
        "colab": {}
      },
      "source": [
        "%%time\n",
        "x = attack_batch(model_org, generator, x_test, y_test, \n",
        "                targeted=target, num_classes=10, \n",
        "                const=1.5, confidence=0, \n",
        "                learning_rate=0.004, step=200)"
      ],
      "execution_count": 0,
      "outputs": []
    },
    {
      "cell_type": "code",
      "metadata": {
        "id": "ZOBUYlKqVJtu",
        "colab_type": "code",
        "colab": {}
      },
      "source": [
        "np.save('/content/drive/My Drive/Colab Notebooks/Defense-GAN/data/bpda_test.npy', x)"
      ],
      "execution_count": 0,
      "outputs": []
    },
    {
      "cell_type": "code",
      "metadata": {
        "id": "ZOXz5rwhWOqT",
        "colab_type": "code",
        "outputId": "1e5cc3ad-feae-43e4-dee1-086584944ed5",
        "colab": {
          "base_uri": "https://localhost:8080/",
          "height": 574
        }
      },
      "source": [
        "# samples of perturbed images\n",
        "plt.figure(figsize=(2,10))\n",
        "for i in range(1, 11):\n",
        "  plt.subplot(10, 2, 2*i-1)\n",
        "  plt.imshow(x[i+11])\n",
        "  plt.axis('off')\n",
        "  plt.subplot(10, 2, 2*i)\n",
        "  plt.imshow(x_test[i+11])\n",
        "  plt.axis('off')"
      ],
      "execution_count": 0,
      "outputs": [
        {
          "output_type": "display_data",
          "data": {
            "image/png": "[encoded data removed]",
            "text/plain": [
              "<Figure size 144x720 with 20 Axes>"
            ]
          },
          "metadata": {
            "tags": [],
            "needs_background": "light"
          }
        }
      ]
    },
    {
      "cell_type": "code",
      "metadata": {
        "id": "hnlo8WAO7axW",
        "colab_type": "code",
        "colab": {}
      },
      "source": [
        "#x = np.load('/content/drive/My Drive/Colab Notebooks/Defense-GAN/data/bpda_test.npy')"
      ],
      "execution_count": 0,
      "outputs": []
    },
    {
      "cell_type": "markdown",
      "metadata": {
        "id": "rOkJwZPl9ODy",
        "colab_type": "text"
      },
      "source": [
        "## Defense-GAN"
      ]
    },
    {
      "cell_type": "code",
      "metadata": {
        "id": "HCHMR-ne8yHM",
        "colab_type": "code",
        "colab": {}
      },
      "source": [
        "!unzip wgan"
      ],
      "execution_count": 0,
      "outputs": []
    },
    {
      "cell_type": "code",
      "metadata": {
        "id": "w8dJmGzx9i16",
        "colab_type": "code",
        "colab": {}
      },
      "source": [
        "generator = models.load_model('wgan')"
      ],
      "execution_count": 0,
      "outputs": []
    },
    {
      "cell_type": "code",
      "metadata": {
        "id": "ZXgDEHlb9igx",
        "colab_type": "code",
        "colab": {}
      },
      "source": [
        "# use WGAN-GP to generate an image that is closest to the original one\n",
        "@tf.function\n",
        "def search(noise, image, learning_rate=0.004, step=200):\n",
        "  for i in range(step):\n",
        "    with tf.GradientTape() as tape:\n",
        "      tape.watch(noise)\n",
        "      fake = generator(noise, training=False)\n",
        "      loss = tf.reduce_sum((fake - image)**2, axis=[1,2,3])\n",
        "    \n",
        "    gradients = tape.gradient(loss, noise)\n",
        "    noise.assign_sub(learning_rate * gradients)\n",
        "    \n",
        "  idx = tf.argmin(loss, axis=0)\n",
        "  noise = tf.reshape(noise[idx], (1, -1))\n",
        "  return generator(noise, training=False)"
      ],
      "execution_count": 0,
      "outputs": []
    },
    {
      "cell_type": "code",
      "metadata": {
        "id": "Pv_iZaQr9l07",
        "colab_type": "code",
        "colab": {}
      },
      "source": [
        "# `search()` only deals with one image, while this function deals with multiple images\n",
        "def search_batch(images, learning_rate=0.004, step=200):\n",
        "  predictions = []\n",
        "  start=time.time()\n",
        "  for i in range(images.shape[0]):\n",
        "    noise = tf.random.normal([10, 128])\n",
        "    noise = tf.Variable(noise, trainable=True)\n",
        "    predictions.append(search(noise, images[i], learning_rate, step))\n",
        "    # record progress\n",
        "    display.clear_output(wait=True)\n",
        "    if (i+1)%10 == 0:\n",
        "      print('Batch: {}/{}\\tTime: {} sec'.format(i+1, images.shape[0], time.time()-start))\n",
        "      start=time.time()\n",
        "  return tf.concat(predictions, axis=0)"
      ],
      "execution_count": 0,
      "outputs": []
    },
    {
      "cell_type": "code",
      "metadata": {
        "id": "QTc4MiwK9nkB",
        "colab_type": "code",
        "colab": {}
      },
      "source": [
        "%%time\n",
        "gen_x = search_batch(x, step=200)"
      ],
      "execution_count": 0,
      "outputs": []
    },
    {
      "cell_type": "code",
      "metadata": {
        "id": "I3lbwOXg9qxS",
        "colab_type": "code",
        "colab": {}
      },
      "source": [
        "np.save('/content/drive/My Drive/Colab Notebooks/Defense-GAN/data/bpda_gen_test.npy', gen_x)"
      ],
      "execution_count": 0,
      "outputs": []
    },
    {
      "cell_type": "code",
      "metadata": {
        "id": "n19WRc329x3C",
        "colab_type": "code",
        "colab": {}
      },
      "source": [
        "#gen_x = np.load('/content/drive/My Drive/Colab Notebooks/Defense-GAN/data/bpda_gen_test.npy')"
      ],
      "execution_count": 0,
      "outputs": []
    },
    {
      "cell_type": "code",
      "metadata": {
        "id": "df-cqijp9tjT",
        "colab_type": "code",
        "outputId": "16ef6855-46fd-478b-9b4c-00918f8a8615",
        "colab": {
          "base_uri": "https://localhost:8080/",
          "height": 54
        }
      },
      "source": [
        "# BPDA attack + defense-gan-org\n",
        "model_org.evaluate(gen_x, y_test)"
      ],
      "execution_count": 0,
      "outputs": [
        {
          "output_type": "stream",
          "text": [
            "313/313 [==============================] - 1s 4ms/step - loss: 2.9721 - accuracy: 0.2880\n"
          ],
          "name": "stdout"
        },
        {
          "output_type": "execute_result",
          "data": {
            "text/plain": [
              "[2.9720778465270996, 0.2879999876022339]"
            ]
          },
          "metadata": {
            "tags": []
          },
          "execution_count": 25
        }
      ]
    },
    {
      "cell_type": "code",
      "metadata": {
        "id": "dmkf4ta-9vej",
        "colab_type": "code",
        "outputId": "edb1265e-6f72-4b5c-b2d9-5e42d6aada80",
        "colab": {
          "base_uri": "https://localhost:8080/",
          "height": 54
        }
      },
      "source": [
        "# BPDA attack + defense-gan-rec\n",
        "model_rec.evaluate(gen_x, y_test)"
      ],
      "execution_count": 0,
      "outputs": [
        {
          "output_type": "stream",
          "text": [
            "313/313 [==============================] - 1s 4ms/step - loss: 1.8796 - accuracy: 0.3873\n"
          ],
          "name": "stdout"
        },
        {
          "output_type": "execute_result",
          "data": {
            "text/plain": [
              "[1.8796466588974, 0.3873000144958496]"
            ]
          },
          "metadata": {
            "tags": []
          },
          "execution_count": 26
        }
      ]
    },
    {
      "cell_type": "markdown",
      "metadata": {
        "id": "l-EoRJUm-Nqs",
        "colab_type": "text"
      },
      "source": [
        "## Results"
      ]
    },
    {
      "cell_type": "markdown",
      "metadata": {
        "id": "fllg18gO-PlE",
        "colab_type": "text"
      },
      "source": [
        "Accuracy:\n",
        "- FGSM attack + defense-gan-org: ~40%\n",
        "- BPDA attack + defense-gan-org: ~28%\n",
        "\n",
        "\n",
        "- FGSM attack + defense-gan-rec: ~52%\n",
        "- BPDA attack + defense-gan-rec: ~38%"
      ]
    },
    {
      "cell_type": "code",
      "metadata": {
        "id": "B3gj0B1o96Rv",
        "colab_type": "code",
        "colab": {}
      },
      "source": [
        ""
      ],
      "execution_count": 0,
      "outputs": []
    }
  ]
}